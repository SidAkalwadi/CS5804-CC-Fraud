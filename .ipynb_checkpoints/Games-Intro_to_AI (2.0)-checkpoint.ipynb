{
 "cells": [
  {
   "cell_type": "code",
   "execution_count": 12,
   "id": "5180bcbc",
   "metadata": {},
   "outputs": [],
   "source": [
    "import pandas as pd\n",
    "import matplotlib.pyplot as plt\n",
    "import numpy as np\n",
    "\n",
    "from sklearn.model_selection import train_test_split\n",
    "from sklearn.ensemble import RandomForestClassifier\n",
    "from sklearn.cluster import KMeans\n",
    "from sklearn.decomposition import PCA\n",
    "from sklearn.preprocessing import StandardScaler\n",
    "from sklearn.metrics import silhouette_score as sil_score\n",
    "from sklearn.metrics import balanced_accuracy_score, RocCurveDisplay, roc_curve, roc_auc_score\n",
    "from sklearn.base import clone\n",
    "from sklearn import metrics"
   ]
  },
  {
   "cell_type": "code",
   "execution_count": 13,
   "id": "e4dcdc75",
   "metadata": {},
   "outputs": [
    {
     "ename": "ModuleNotFoundError",
     "evalue": "No module named 'imblearn'",
     "output_type": "error",
     "traceback": [
      "\u001b[1;31m---------------------------------------------------------------------------\u001b[0m",
      "\u001b[1;31mModuleNotFoundError\u001b[0m                       Traceback (most recent call last)",
      "\u001b[1;32mC:\\Users\\SIDDHA~1\\AppData\\Local\\Temp/ipykernel_17968/1064252026.py\u001b[0m in \u001b[0;36m<module>\u001b[1;34m\u001b[0m\n\u001b[0;32m      3\u001b[0m \u001b[1;32mfrom\u001b[0m \u001b[0mcollections\u001b[0m \u001b[1;32mimport\u001b[0m \u001b[0mCounter\u001b[0m\u001b[1;33m\u001b[0m\u001b[1;33m\u001b[0m\u001b[0m\n\u001b[0;32m      4\u001b[0m \u001b[1;32mfrom\u001b[0m \u001b[0msklearn\u001b[0m \u001b[1;32mimport\u001b[0m \u001b[0mpreprocessing\u001b[0m\u001b[1;33m\u001b[0m\u001b[1;33m\u001b[0m\u001b[0m\n\u001b[1;32m----> 5\u001b[1;33m \u001b[1;32mfrom\u001b[0m \u001b[0mimblearn\u001b[0m\u001b[1;33m.\u001b[0m\u001b[0mover_sampling\u001b[0m \u001b[1;32mimport\u001b[0m \u001b[0mSMOTE\u001b[0m\u001b[1;33m\u001b[0m\u001b[1;33m\u001b[0m\u001b[0m\n\u001b[0m\u001b[0;32m      6\u001b[0m \u001b[1;32mfrom\u001b[0m \u001b[0msklearn\u001b[0m\u001b[1;33m.\u001b[0m\u001b[0mmetrics\u001b[0m \u001b[1;32mimport\u001b[0m \u001b[0mclassification_report\u001b[0m\u001b[1;33m,\u001b[0m\u001b[0mconfusion_matrix\u001b[0m\u001b[1;33m\u001b[0m\u001b[1;33m\u001b[0m\u001b[0m\n\u001b[0;32m      7\u001b[0m \u001b[1;33m\u001b[0m\u001b[0m\n",
      "\u001b[1;31mModuleNotFoundError\u001b[0m: No module named 'imblearn'"
     ]
    }
   ],
   "source": [
    "from sklearn.model_selection import train_test_split\n",
    "from sklearn import svm\n",
    "from collections import Counter\n",
    "from sklearn import preprocessing\n",
    "from imblearn.over_sampling import SMOTE\n",
    "from sklearn.metrics import classification_report,confusion_matrix\n",
    "\n",
    "from sklearn.linear_model import LogisticRegression\n",
    "from sklearn.tree import DecisionTreeClassifier\n"
   ]
  },
  {
   "cell_type": "code",
   "execution_count": null,
   "id": "44e9a768",
   "metadata": {},
   "outputs": [],
   "source": [
    "# Other imports for decision trees\n",
    "from sklearn import tree\n",
    "import pydotplus\n",
    "import matplotlib.pyplot as plt\n",
    "import matplotlib.image as pltimg\n",
    "import io\n",
    "from sklearn.metrics import roc_curve\n",
    "from sklearn.metrics import roc_auc_score"
   ]
  },
  {
   "cell_type": "code",
   "execution_count": null,
   "id": "ae40d3bb",
   "metadata": {},
   "outputs": [],
   "source": [
    "df = pd.read_csv('C:/Users/george/Documents/Research 2021-2022/sample-1-25.csv/sample-1-25.csv')\n",
    "y_col, x_col = df.columns[0], df.columns[1::]\n"
   ]
  },
  {
   "cell_type": "code",
   "execution_count": null,
   "id": "8f9787c9",
   "metadata": {},
   "outputs": [],
   "source": [
    "Counter(df[y_col])"
   ]
  },
  {
   "cell_type": "code",
   "execution_count": null,
   "id": "1ffc7bf1",
   "metadata": {},
   "outputs": [],
   "source": [
    "df_y = df[y_col]\n",
    "df = pd.DataFrame(df[x_col])\n",
    "df['FRD_IND'] = df_y\n",
    "df"
   ]
  },
  {
   "cell_type": "code",
   "execution_count": null,
   "id": "5ad66526",
   "metadata": {},
   "outputs": [],
   "source": [
    "df.shape"
   ]
  },
  {
   "cell_type": "code",
   "execution_count": null,
   "id": "6c7a6922",
   "metadata": {},
   "outputs": [],
   "source": [
    "# Applying smote\n",
    "# x_resampled, y_resampled = SMOTE(random_state=44).fit_resample(df[x_col], df[y_col])\n",
    "\n",
    "# df = pd.DataFrame(x_resampled)\n",
    "# df['FRD_IND'] = y_resampled\n",
    "# df"
   ]
  },
  {
   "cell_type": "code",
   "execution_count": null,
   "id": "9050bde2",
   "metadata": {},
   "outputs": [],
   "source": []
  },
  {
   "cell_type": "code",
   "execution_count": null,
   "id": "ba85f1a4",
   "metadata": {},
   "outputs": [],
   "source": []
  },
  {
   "cell_type": "code",
   "execution_count": null,
   "id": "7082c811",
   "metadata": {},
   "outputs": [],
   "source": []
  },
  {
   "cell_type": "code",
   "execution_count": null,
   "id": "10be3943",
   "metadata": {},
   "outputs": [],
   "source": []
  },
  {
   "cell_type": "code",
   "execution_count": null,
   "id": "b1607a02",
   "metadata": {},
   "outputs": [],
   "source": [
    "x, y = df[df.columns[0:-2]], df[df.columns[-2::]]"
   ]
  },
  {
   "cell_type": "code",
   "execution_count": null,
   "id": "33265b1d",
   "metadata": {},
   "outputs": [],
   "source": []
  },
  {
   "cell_type": "code",
   "execution_count": null,
   "id": "021f1c16",
   "metadata": {},
   "outputs": [],
   "source": [
    "y_total_data = []\n",
    "ydata = []"
   ]
  },
  {
   "cell_type": "code",
   "execution_count": null,
   "id": "d637608d",
   "metadata": {},
   "outputs": [],
   "source": [
    "# Need to run the following cell before the simulation"
   ]
  },
  {
   "cell_type": "code",
   "execution_count": null,
   "id": "367e1e8f",
   "metadata": {},
   "outputs": [],
   "source": [
    "# init_df = df[df['Round'] == 0]\n",
    "# x, y = init_df[init_df.columns[0:-2]], init_df[init_df.columns[-2::]]\n",
    "\n",
    "x_tr, x_te, y_tr, y_te = train_test_split(x, y['FRD_IND'], random_state=42)"
   ]
  },
  {
   "cell_type": "code",
   "execution_count": null,
   "id": "bd71366a",
   "metadata": {},
   "outputs": [],
   "source": []
  },
  {
   "cell_type": "code",
   "execution_count": null,
   "id": "5f58129a",
   "metadata": {},
   "outputs": [],
   "source": [
    "# Applying smote\n",
    "\n",
    "x_tr, y_tr = SMOTE(random_state=44).fit_resample(x_tr, y_tr)\n",
    "\n"
   ]
  },
  {
   "cell_type": "code",
   "execution_count": null,
   "id": "3cf3122e",
   "metadata": {},
   "outputs": [],
   "source": [
    "print(Counter(y_tr))\n",
    "print(Counter(y_te))"
   ]
  },
  {
   "cell_type": "markdown",
   "id": "c661c3da",
   "metadata": {},
   "source": [
    "## Defense"
   ]
  },
  {
   "cell_type": "code",
   "execution_count": null,
   "id": "c5197b29",
   "metadata": {},
   "outputs": [],
   "source": [
    "# Please train the classifiers here:\n",
    "# Sidd Logistic Regression\n",
    "\n",
    "\n",
    "# Confusion Matrix Function\n",
    "def make_confusion_matrix(test, pred):\n",
    "    conf_mat = confusion_matrix(test, pred)\n",
    "    plt.figure(figsize=(8, 8))\n",
    "    ax = seaborn.heatmap(conf_mat, annot=True,\n",
    "        cmap=plt.cm.Greens, fmt='g', \n",
    "        linewidths=0.1, linecolor='black')\n",
    "    ax.xaxis.set_ticklabels(['False', 'True'], fontsize=14)\n",
    "    ax.yaxis.set_ticklabels(['False', 'True'], fontsize=14)\n",
    "    ax.set_xlabel('Predictions', fontsize=18)\n",
    "    ax.set_ylabel('Actuals', fontsize=18)\n",
    "    ax.set_title('Confusion Matrix', fontsize=18)\n",
    "    plt.show()\n",
    "\n",
    "def make_roc_curve(model, label):\n",
    "    pred_prob = model.predict_proba(x_te)[:,1]\n",
    "    fpr1, tpr1, _a = roc_curve(y_te, pred_prob, pos_label=1)\n",
    "    random_probs = [0 for i in range(len(y_te))]\n",
    "    p_fpr, p_tpr, _b = roc_curve(y_te, random_probs, pos_label=1)\n",
    "    auc_score = roc_auc_score(y_te, pred_prob)\n",
    "    print(\"AUC Score: \", auc_score)\n",
    "    plt.figure(figsize=(8, 8))\n",
    "    plt.plot(fpr1, tpr1, color='blue', label=label)\n",
    "    plt.plot(p_fpr, p_tpr, color='red', alpha=0.5)\n",
    "    plt.title('ROC Curve', fontsize=18)\n",
    "    plt.xlabel('False Positive Rate', fontsize=18)\n",
    "    plt.ylabel('True Positive Rate', fontsize=18)\n",
    "    plt.legend(bbox_to_anchor=(0, 0, 1, 1), loc='lower right')\n",
    "    plt.grid(color='b', ls = '-', lw=0.25)\n",
    "    plt.show()\n",
    "\n",
    "\n",
    "\n",
    "# Sid Logistic Regression\n",
    "logisticRegr = LogisticRegression()\n",
    "logisticRegr.fit(x_tr, y_tr)\n",
    "\n",
    "logPreds = logisticRegr.predict(x_te)\n",
    "print(\"Logisitic Regression Accuracy: \", metrics.accuracy_score(y_te, pred))\n",
    "make_confusion_matrix(y_te, logPreds)\n",
    "\n",
    "make_roc_curve(logisticRegr, \"Logistic Regression\")\n",
    "\n",
    "# Judd Random Forest\n",
    "forest = RandomForestClassifier(n_estimators=100, random_state=42, max_depth=12)\n",
    "forest.fit(x_tr, y_tr)\n",
    "\n",
    "pred = forest.predict(x_te)\n",
    "print(\"Random Forest Accuracy: \", metrics.accuracy_score(y_te, pred))\n",
    "make_confusion_matrix(y_te, pred)\n",
    "\n",
    "make_roc_curve(forest, \"Random Forest\")\n",
    "\n",
    "\n",
    "\n",
    "\n"
   ]
  },
  {
   "cell_type": "code",
   "execution_count": null,
   "id": "84b6b28d",
   "metadata": {},
   "outputs": [],
   "source": []
  },
  {
   "cell_type": "code",
   "execution_count": null,
   "id": "d7ea6fc3",
   "metadata": {},
   "outputs": [],
   "source": [
    "# ----- Matt Decison Trees ----- \n",
    "features = ['APPRD_AUTHZN_CNT',\t'AVG_DLY_AUTHZN_AMT',\t'MRCH_CATG_CD',\n",
    "\t'POS_ENTRY_MTHD_CD',\t'RCURG_AUTHZN_IND',\t'DISTANCE_FROM_HOME',\n",
    "    'ACCT_CURR_BAL',\t'AUTHZN_AMT',\t'AUTHZN_OUTSTD_AMT',\t'PLSTC_ISU_DUR']\n",
    "dtree = DecisionTreeClassifier(max_depth = 20, max_leaf_nodes= 100)\n",
    "dtree = dtree.fit(x_tr, y_tr) # Need to figure out which way to limit them.\n",
    "data = tree.export_graphviz(dtree, out_file=None, feature_names=features)\n",
    "\n",
    "# Getting metrixs\n",
    "x_pred = dtree.predict(x_te)\n",
    "tree_confusion_matrix = metrics.confusion_matrix(x_pred, y_te)\n",
    "print(tree_confusion_matrix)\n",
    "print(\"Decision Tree Classifier Accuracy: \", metrics.accuracy_score(y_te, x_pred))\n",
    "\n",
    "# Calculating auc-roc\n",
    "from matplotlib import pyplot\n",
    "# pulled from: https://machinelearningmastery.com/roc-curves-and-precision-recall-curves-for-classification-in-python/#:~:text=ROC%20Curves%20and%20AUC%20in%20Python,-We%20can%20plot&text=The%20AUC%20for%20the%20ROC,probabilities%20for%20the%201%20class.\n",
    "ns_probs = [0 for _ in range(len(y_te))]\n",
    "lr_probs = dtree.predict_proba(x_te)\n",
    "lr_probs = lr_probs[:, 1]\n",
    "ns_auc = roc_auc_score(y_te, ns_probs)\n",
    "lr_auc = roc_auc_score(y_te, lr_probs)\n",
    "# summarize scores\n",
    "print('No Skill: ROC AUC=%.3f' % (ns_auc))\n",
    "print('Logistic: ROC AUC=%.3f' % (lr_auc))\n",
    "# calculate roc curves\n",
    "ns_fpr, ns_tpr, _ = roc_curve(y_te, ns_probs)\n",
    "lr_fpr, lr_tpr, _ = roc_curve(y_te, lr_probs)\n",
    "# plot the roc curve for the model\n",
    "pyplot.plot(ns_fpr, ns_tpr, linestyle='--', label='No Skill')\n",
    "pyplot.plot(lr_fpr, lr_tpr, marker='.', label='Logistic')\n",
    "# axis labels\n",
    "pyplot.xlabel('False Positive Rate')\n",
    "pyplot.ylabel('True Positive Rate')\n",
    "# show the legend\n",
    "pyplot.legend()\n",
    "# show the plot\n",
    "pyplot.show()\n",
    "\n",
    "# Outputting the tree\n",
    "graph = pydotplus.graph_from_dot_data(data)\n",
    "graph.write_png('sample-1-25-tree.png')\n",
    "img=pltimg.imread('sample-1-25-tree.png')\n",
    "imgplot = plt.imshow(img)\n",
    "plt.show()"
   ]
  },
  {
   "cell_type": "code",
   "execution_count": null,
   "id": "186e4e4b",
   "metadata": {},
   "outputs": [],
   "source": []
  },
  {
   "cell_type": "code",
   "execution_count": null,
   "id": "1e43af60",
   "metadata": {},
   "outputs": [],
   "source": []
  },
  {
   "cell_type": "code",
   "execution_count": null,
   "id": "0b9bb517",
   "metadata": {},
   "outputs": [],
   "source": []
  },
  {
   "cell_type": "code",
   "execution_count": null,
   "id": "ba8ddeff",
   "metadata": {},
   "outputs": [],
   "source": []
  },
  {
   "cell_type": "code",
   "execution_count": null,
   "id": "f1ec1c06",
   "metadata": {},
   "outputs": [],
   "source": []
  },
  {
   "cell_type": "code",
   "execution_count": null,
   "id": "a59de908",
   "metadata": {},
   "outputs": [],
   "source": []
  }
 ],
 "metadata": {
  "kernelspec": {
   "display_name": "Python 3 (ipykernel)",
   "language": "python",
   "name": "python3"
  },
  "language_info": {
   "codemirror_mode": {
    "name": "ipython",
    "version": 3
   },
   "file_extension": ".py",
   "mimetype": "text/x-python",
   "name": "python",
   "nbconvert_exporter": "python",
   "pygments_lexer": "ipython3",
   "version": "3.9.7"
  }
 },
 "nbformat": 4,
 "nbformat_minor": 5
}
