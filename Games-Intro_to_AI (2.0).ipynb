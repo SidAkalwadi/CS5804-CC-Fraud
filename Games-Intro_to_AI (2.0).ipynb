{
 "cells": [
  {
   "cell_type": "code",
   "execution_count": 1,
   "id": "5180bcbc",
   "metadata": {},
   "outputs": [],
   "source": [
    "import pandas as pd\n",
    "import matplotlib.pyplot as plt\n",
    "import numpy as np\n",
    "\n",
    "from sklearn.model_selection import train_test_split\n",
    "from sklearn.ensemble import RandomForestClassifier\n",
    "from sklearn.cluster import KMeans\n",
    "from sklearn.decomposition import PCA\n",
    "from sklearn.preprocessing import StandardScaler\n",
    "from sklearn.metrics import silhouette_score as sil_score\n",
    "from sklearn.metrics import balanced_accuracy_score, RocCurveDisplay, roc_curve, roc_auc_score\n",
    "from sklearn.base import clone\n",
    "from sklearn import metrics"
   ]
  },
  {
   "cell_type": "code",
   "execution_count": 2,
   "id": "e4dcdc75",
   "metadata": {},
   "outputs": [],
   "source": [
    "from sklearn.model_selection import train_test_split\n",
    "from sklearn import svm\n",
    "from collections import Counter\n",
    "from sklearn import preprocessing\n",
    "from imblearn.over_sampling import SMOTE\n",
    "from sklearn.metrics import classification_report,confusion_matrix\n",
    "\n",
    "from sklearn.linear_model import LogisticRegression\n",
    "from sklearn.tree import DecisionTreeClassifier\n"
   ]
  },
  {
   "cell_type": "code",
   "execution_count": 3,
   "id": "ae40d3bb",
   "metadata": {},
   "outputs": [],
   "source": [
    "df = pd.read_csv('C:/Users/george/Documents/Research 2021-2022/sample-1-25.csv/sample-1-25.csv')\n",
    "y_col, x_col = df.columns[0], df.columns[1::]\n"
   ]
  },
  {
   "cell_type": "code",
   "execution_count": 4,
   "id": "8f9787c9",
   "metadata": {},
   "outputs": [
    {
     "data": {
      "text/plain": [
       "Counter({0: 1987514, 1: 2490})"
      ]
     },
     "execution_count": 4,
     "metadata": {},
     "output_type": "execute_result"
    }
   ],
   "source": [
    "Counter(df[y_col])"
   ]
  },
  {
   "cell_type": "code",
   "execution_count": 5,
   "id": "1ffc7bf1",
   "metadata": {},
   "outputs": [
    {
     "data": {
      "text/html": [
       "<div>\n",
       "<style scoped>\n",
       "    .dataframe tbody tr th:only-of-type {\n",
       "        vertical-align: middle;\n",
       "    }\n",
       "\n",
       "    .dataframe tbody tr th {\n",
       "        vertical-align: top;\n",
       "    }\n",
       "\n",
       "    .dataframe thead th {\n",
       "        text-align: right;\n",
       "    }\n",
       "</style>\n",
       "<table border=\"1\" class=\"dataframe\">\n",
       "  <thead>\n",
       "    <tr style=\"text-align: right;\">\n",
       "      <th></th>\n",
       "      <th>APPRD_AUTHZN_CNT</th>\n",
       "      <th>AVG_DLY_AUTHZN_AMT</th>\n",
       "      <th>MRCH_CATG_CD</th>\n",
       "      <th>POS_ENTRY_MTHD_CD</th>\n",
       "      <th>RCURG_AUTHZN_IND</th>\n",
       "      <th>DISTANCE_FROM_HOME</th>\n",
       "      <th>ACCT_CURR_BAL</th>\n",
       "      <th>AUTHZN_AMT</th>\n",
       "      <th>AUTHZN_OUTSTD_AMT</th>\n",
       "      <th>PLSTC_ISU_DUR</th>\n",
       "      <th>FRD_IND</th>\n",
       "    </tr>\n",
       "  </thead>\n",
       "  <tbody>\n",
       "    <tr>\n",
       "      <th>0</th>\n",
       "      <td>3</td>\n",
       "      <td>7</td>\n",
       "      <td>5812</td>\n",
       "      <td>90</td>\n",
       "      <td>0</td>\n",
       "      <td>0.000000</td>\n",
       "      <td>2498.21</td>\n",
       "      <td>15.52</td>\n",
       "      <td>94.28</td>\n",
       "      <td>805</td>\n",
       "      <td>0</td>\n",
       "    </tr>\n",
       "    <tr>\n",
       "      <th>1</th>\n",
       "      <td>1</td>\n",
       "      <td>6</td>\n",
       "      <td>5541</td>\n",
       "      <td>90</td>\n",
       "      <td>0</td>\n",
       "      <td>0.000000</td>\n",
       "      <td>88.88</td>\n",
       "      <td>46.56</td>\n",
       "      <td>56.31</td>\n",
       "      <td>68</td>\n",
       "      <td>0</td>\n",
       "    </tr>\n",
       "    <tr>\n",
       "      <th>2</th>\n",
       "      <td>4</td>\n",
       "      <td>0</td>\n",
       "      <td>5965</td>\n",
       "      <td>81</td>\n",
       "      <td>0</td>\n",
       "      <td>358.850300</td>\n",
       "      <td>1934.36</td>\n",
       "      <td>16.34</td>\n",
       "      <td>927.13</td>\n",
       "      <td>190</td>\n",
       "      <td>0</td>\n",
       "    </tr>\n",
       "    <tr>\n",
       "      <th>3</th>\n",
       "      <td>0</td>\n",
       "      <td>3</td>\n",
       "      <td>5542</td>\n",
       "      <td>90</td>\n",
       "      <td>0</td>\n",
       "      <td>4.293625</td>\n",
       "      <td>916.04</td>\n",
       "      <td>1.00</td>\n",
       "      <td>0.00</td>\n",
       "      <td>217</td>\n",
       "      <td>0</td>\n",
       "    </tr>\n",
       "    <tr>\n",
       "      <th>4</th>\n",
       "      <td>1</td>\n",
       "      <td>2</td>\n",
       "      <td>5814</td>\n",
       "      <td>90</td>\n",
       "      <td>0</td>\n",
       "      <td>509.830350</td>\n",
       "      <td>166.62</td>\n",
       "      <td>10.66</td>\n",
       "      <td>10.66</td>\n",
       "      <td>110</td>\n",
       "      <td>0</td>\n",
       "    </tr>\n",
       "    <tr>\n",
       "      <th>...</th>\n",
       "      <td>...</td>\n",
       "      <td>...</td>\n",
       "      <td>...</td>\n",
       "      <td>...</td>\n",
       "      <td>...</td>\n",
       "      <td>...</td>\n",
       "      <td>...</td>\n",
       "      <td>...</td>\n",
       "      <td>...</td>\n",
       "      <td>...</td>\n",
       "      <td>...</td>\n",
       "    </tr>\n",
       "    <tr>\n",
       "      <th>1989999</th>\n",
       "      <td>2</td>\n",
       "      <td>53</td>\n",
       "      <td>5812</td>\n",
       "      <td>90</td>\n",
       "      <td>0</td>\n",
       "      <td>1.627350</td>\n",
       "      <td>789.59</td>\n",
       "      <td>27.00</td>\n",
       "      <td>252.15</td>\n",
       "      <td>215</td>\n",
       "      <td>0</td>\n",
       "    </tr>\n",
       "    <tr>\n",
       "      <th>1990000</th>\n",
       "      <td>1</td>\n",
       "      <td>7</td>\n",
       "      <td>5812</td>\n",
       "      <td>90</td>\n",
       "      <td>0</td>\n",
       "      <td>0.000000</td>\n",
       "      <td>455.20</td>\n",
       "      <td>9.36</td>\n",
       "      <td>9.36</td>\n",
       "      <td>916</td>\n",
       "      <td>0</td>\n",
       "    </tr>\n",
       "    <tr>\n",
       "      <th>1990001</th>\n",
       "      <td>1</td>\n",
       "      <td>0</td>\n",
       "      <td>5942</td>\n",
       "      <td>81</td>\n",
       "      <td>0</td>\n",
       "      <td>2289.664800</td>\n",
       "      <td>2339.05</td>\n",
       "      <td>31.37</td>\n",
       "      <td>32.37</td>\n",
       "      <td>721</td>\n",
       "      <td>0</td>\n",
       "    </tr>\n",
       "    <tr>\n",
       "      <th>1990002</th>\n",
       "      <td>1</td>\n",
       "      <td>18</td>\n",
       "      <td>5814</td>\n",
       "      <td>90</td>\n",
       "      <td>0</td>\n",
       "      <td>14.187878</td>\n",
       "      <td>327.17</td>\n",
       "      <td>25.69</td>\n",
       "      <td>25.69</td>\n",
       "      <td>318</td>\n",
       "      <td>0</td>\n",
       "    </tr>\n",
       "    <tr>\n",
       "      <th>1990003</th>\n",
       "      <td>1</td>\n",
       "      <td>19</td>\n",
       "      <td>5411</td>\n",
       "      <td>90</td>\n",
       "      <td>0</td>\n",
       "      <td>11.935237</td>\n",
       "      <td>79.01</td>\n",
       "      <td>7.31</td>\n",
       "      <td>34.05</td>\n",
       "      <td>131</td>\n",
       "      <td>0</td>\n",
       "    </tr>\n",
       "  </tbody>\n",
       "</table>\n",
       "<p>1990004 rows × 11 columns</p>\n",
       "</div>"
      ],
      "text/plain": [
       "         APPRD_AUTHZN_CNT  AVG_DLY_AUTHZN_AMT  MRCH_CATG_CD  \\\n",
       "0                       3                   7          5812   \n",
       "1                       1                   6          5541   \n",
       "2                       4                   0          5965   \n",
       "3                       0                   3          5542   \n",
       "4                       1                   2          5814   \n",
       "...                   ...                 ...           ...   \n",
       "1989999                 2                  53          5812   \n",
       "1990000                 1                   7          5812   \n",
       "1990001                 1                   0          5942   \n",
       "1990002                 1                  18          5814   \n",
       "1990003                 1                  19          5411   \n",
       "\n",
       "         POS_ENTRY_MTHD_CD  RCURG_AUTHZN_IND  DISTANCE_FROM_HOME  \\\n",
       "0                       90                 0            0.000000   \n",
       "1                       90                 0            0.000000   \n",
       "2                       81                 0          358.850300   \n",
       "3                       90                 0            4.293625   \n",
       "4                       90                 0          509.830350   \n",
       "...                    ...               ...                 ...   \n",
       "1989999                 90                 0            1.627350   \n",
       "1990000                 90                 0            0.000000   \n",
       "1990001                 81                 0         2289.664800   \n",
       "1990002                 90                 0           14.187878   \n",
       "1990003                 90                 0           11.935237   \n",
       "\n",
       "         ACCT_CURR_BAL  AUTHZN_AMT  AUTHZN_OUTSTD_AMT  PLSTC_ISU_DUR  FRD_IND  \n",
       "0              2498.21       15.52              94.28            805        0  \n",
       "1                88.88       46.56              56.31             68        0  \n",
       "2              1934.36       16.34             927.13            190        0  \n",
       "3               916.04        1.00               0.00            217        0  \n",
       "4               166.62       10.66              10.66            110        0  \n",
       "...                ...         ...                ...            ...      ...  \n",
       "1989999         789.59       27.00             252.15            215        0  \n",
       "1990000         455.20        9.36               9.36            916        0  \n",
       "1990001        2339.05       31.37              32.37            721        0  \n",
       "1990002         327.17       25.69              25.69            318        0  \n",
       "1990003          79.01        7.31              34.05            131        0  \n",
       "\n",
       "[1990004 rows x 11 columns]"
      ]
     },
     "execution_count": 5,
     "metadata": {},
     "output_type": "execute_result"
    }
   ],
   "source": [
    "df_y = df[y_col]\n",
    "df = pd.DataFrame(df[x_col])\n",
    "df['FRD_IND'] = df_y\n",
    "df"
   ]
  },
  {
   "cell_type": "code",
   "execution_count": 16,
   "id": "5ad66526",
   "metadata": {},
   "outputs": [
    {
     "ename": "TypeError",
     "evalue": "'tuple' object is not callable",
     "output_type": "error",
     "traceback": [
      "\u001b[1;31m---------------------------------------------------------------------------\u001b[0m",
      "\u001b[1;31mTypeError\u001b[0m                                 Traceback (most recent call last)",
      "\u001b[1;32m~\\AppData\\Local\\Temp/ipykernel_20396/1472378890.py\u001b[0m in \u001b[0;36m<module>\u001b[1;34m\u001b[0m\n\u001b[1;32m----> 1\u001b[1;33m \u001b[0mdf\u001b[0m\u001b[1;33m.\u001b[0m\u001b[0mshape\u001b[0m\u001b[1;33m(\u001b[0m\u001b[1;33m)\u001b[0m\u001b[1;33m\u001b[0m\u001b[1;33m\u001b[0m\u001b[0m\n\u001b[0m",
      "\u001b[1;31mTypeError\u001b[0m: 'tuple' object is not callable"
     ]
    }
   ],
   "source": [
    "df.shape()"
   ]
  },
  {
   "cell_type": "code",
   "execution_count": 6,
   "id": "6c7a6922",
   "metadata": {},
   "outputs": [],
   "source": [
    "# Applying smote\n",
    "# x_resampled, y_resampled = SMOTE(random_state=44).fit_resample(df[x_col], df[y_col])\n",
    "\n",
    "# df = pd.DataFrame(x_resampled)\n",
    "# df['FRD_IND'] = y_resampled\n",
    "# df"
   ]
  },
  {
   "cell_type": "code",
   "execution_count": 18,
   "id": "9050bde2",
   "metadata": {},
   "outputs": [],
   "source": []
  },
  {
   "cell_type": "code",
   "execution_count": null,
   "id": "ba85f1a4",
   "metadata": {},
   "outputs": [],
   "source": []
  },
  {
   "cell_type": "code",
   "execution_count": null,
   "id": "7082c811",
   "metadata": {},
   "outputs": [],
   "source": []
  },
  {
   "cell_type": "code",
   "execution_count": null,
   "id": "10be3943",
   "metadata": {},
   "outputs": [],
   "source": []
  },
  {
   "cell_type": "code",
   "execution_count": 7,
   "id": "b1607a02",
   "metadata": {},
   "outputs": [],
   "source": [
    "x, y = df[df.columns[0:-2]], df[df.columns[-2::]]"
   ]
  },
  {
   "cell_type": "code",
   "execution_count": null,
   "id": "33265b1d",
   "metadata": {},
   "outputs": [],
   "source": []
  },
  {
   "cell_type": "code",
   "execution_count": 8,
   "id": "021f1c16",
   "metadata": {},
   "outputs": [],
   "source": [
    "y_total_data = []\n",
    "ydata = []"
   ]
  },
  {
   "cell_type": "code",
   "execution_count": 9,
   "id": "d637608d",
   "metadata": {},
   "outputs": [],
   "source": [
    "# Need to run the following cell before the simulation"
   ]
  },
  {
   "cell_type": "code",
   "execution_count": 21,
   "id": "367e1e8f",
   "metadata": {},
   "outputs": [],
   "source": [
    "# init_df = df[df['Round'] == 0]\n",
    "# x, y = init_df[init_df.columns[0:-2]], init_df[init_df.columns[-2::]]\n",
    "\n",
    "x_tr, x_te, y_tr, y_te = train_test_split(x, y['FRD_IND'], random_state=42)"
   ]
  },
  {
   "cell_type": "code",
   "execution_count": 18,
   "id": "bd71366a",
   "metadata": {},
   "outputs": [],
   "source": [
    "sc_X = StandardScaler()\n",
    "x_tr = sc_X.fit_transform(x_tr)\n",
    "x_te = sc_X.transform(x_te)"
   ]
  },
  {
   "cell_type": "code",
   "execution_count": 22,
   "id": "5f58129a",
   "metadata": {},
   "outputs": [],
   "source": [
    "# Applying smote\n",
    "\n",
    "x_tr, y_tr = SMOTE(random_state=44).fit_resample(x_tr, y_tr)\n",
    "\n"
   ]
  },
  {
   "cell_type": "code",
   "execution_count": 23,
   "id": "3cf3122e",
   "metadata": {},
   "outputs": [
    {
     "name": "stdout",
     "output_type": "stream",
     "text": [
      "Counter({0: 1490632, 1: 1490632})\n",
      "Counter({0: 496882, 1: 619})\n"
     ]
    }
   ],
   "source": [
    "print(Counter(y_tr))\n",
    "print(Counter(y_te))"
   ]
  },
  {
   "cell_type": "markdown",
   "id": "c661c3da",
   "metadata": {},
   "source": [
    "## Defense"
   ]
  },
  {
   "cell_type": "code",
   "execution_count": null,
   "id": "c5197b29",
   "metadata": {},
   "outputs": [],
   "source": [
    "# Please train the classifiers here:\n",
    "# Sidd Logistic Regression\n",
    "\n",
    "\n",
    "# Judd Random Forest\n",
    "forest = RandomForestClassifier(n_estimators=100, random_state=42)#, max_depth=10)  # n_estimators= 100\n",
    "forest.fit(x_tr, y_tr)\n",
    "\n",
    "pred = forest.predict(x_te)\n",
    "print(\"Random Forest Accuracy: \", metrics.accuracy_score(y_te, pred))\n",
    "conf_mat = confusion_matrix(y_te, pred)\n",
    "print(\"Confusion Matrix: \")\n",
    "print(conf_mat)\n",
    "\n",
    "pred_prob = forest.predict_proba(x_te)\n",
    "fpr1, tpr1, _a = roc_curve(y_te, pred_prob[:,1], pos_label=1)\n",
    "random_probs = [0 for i in range(len(y_te))]\n",
    "p_fpr, p_tpr, _b = roc_curve(y_te, random_probs, pos_label=1)\n",
    "auc_score = roc_auc_score(y_te, pred_prob[:,1])\n",
    "print(\"Random Forest AUC Score: \", auc_score)\n",
    "plt.plot(fpr1, tpr1, color='blue', label=\"Random Forest\")\n",
    "plt.plot(p_fpr, p_tpr, color='red', alpha=0.5)\n",
    "plt.title('ROC Curve')\n",
    "plt.xlabel('False Positive Rate')\n",
    "plt.ylabel('True Positive Rate')\n",
    "plt.legend(loc='best')\n",
    "plt.grid(color='b', ls = '-', lw=0.25)\n",
    "plt.show()\n",
    "\n",
    "'''\n",
    "ax = plt.gca()\n",
    "forest_disp = RocCurveDisplay.from_estimator(forest, x_te, y_te, ax=ax)\n",
    "plt.show()\n",
    "'''\n",
    "\n",
    "\n",
    "# Matt Decison Trees"
   ]
  },
  {
   "cell_type": "code",
   "execution_count": null,
   "id": "84b6b28d",
   "metadata": {},
   "outputs": [],
   "source": []
  },
  {
   "cell_type": "code",
   "execution_count": null,
   "id": "d7ea6fc3",
   "metadata": {},
   "outputs": [],
   "source": []
  },
  {
   "cell_type": "code",
   "execution_count": null,
   "id": "186e4e4b",
   "metadata": {},
   "outputs": [],
   "source": []
  },
  {
   "cell_type": "code",
   "execution_count": 15,
   "id": "1e43af60",
   "metadata": {},
   "outputs": [],
   "source": []
  },
  {
   "cell_type": "code",
   "execution_count": null,
   "id": "0b9bb517",
   "metadata": {},
   "outputs": [],
   "source": []
  },
  {
   "cell_type": "code",
   "execution_count": null,
   "id": "ba8ddeff",
   "metadata": {},
   "outputs": [],
   "source": []
  },
  {
   "cell_type": "code",
   "execution_count": null,
   "id": "f1ec1c06",
   "metadata": {},
   "outputs": [],
   "source": []
  },
  {
   "cell_type": "code",
   "execution_count": null,
   "id": "a59de908",
   "metadata": {},
   "outputs": [],
   "source": []
  }
 ],
 "metadata": {
  "kernelspec": {
   "display_name": "Python 3 (ipykernel)",
   "language": "python",
   "name": "python3"
  },
  "language_info": {
   "codemirror_mode": {
    "name": "ipython",
    "version": 3
   },
   "file_extension": ".py",
   "mimetype": "text/x-python",
   "name": "python",
   "nbconvert_exporter": "python",
   "pygments_lexer": "ipython3",
   "version": "3.9.7"
  }
 },
 "nbformat": 4,
 "nbformat_minor": 5
}
